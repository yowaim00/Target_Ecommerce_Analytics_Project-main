{
 "cells": [
  {
   "cell_type": "markdown",
   "id": "ab0ec510-09f4-45e8-a435-802ae71edc1c",
   "metadata": {},
   "source": [
    "# Installing necessary libraries"
   ]
  },
  {
   "cell_type": "code",
   "execution_count": 24,
   "id": "3925a969-cb4b-403c-ad1a-d634fa68a881",
   "metadata": {},
   "outputs": [
    {
     "name": "stdout",
     "output_type": "stream",
     "text": [
      "Note: you may need to restart the kernel to use updated packages.\n",
      "Defaulting to user installation because normal site-packages is not writeable\n",
      "Requirement already satisfied: pandas in d:\\jupyternotebook\\lib\\site-packages (2.2.2)\n",
      "Requirement already satisfied: numpy>=1.26.0 in d:\\jupyternotebook\\lib\\site-packages (from pandas) (1.26.4)\n",
      "Requirement already satisfied: python-dateutil>=2.8.2 in d:\\jupyternotebook\\lib\\site-packages (from pandas) (2.9.0.post0)\n",
      "Requirement already satisfied: pytz>=2020.1 in d:\\jupyternotebook\\lib\\site-packages (from pandas) (2024.1)\n",
      "Requirement already satisfied: tzdata>=2022.7 in d:\\jupyternotebook\\lib\\site-packages (from pandas) (2023.3)\n",
      "Requirement already satisfied: six>=1.5 in d:\\jupyternotebook\\lib\\site-packages (from python-dateutil>=2.8.2->pandas) (1.16.0)\n"
     ]
    }
   ],
   "source": [
    "pip install pandas"
   ]
  },
  {
   "cell_type": "code",
   "execution_count": 2,
   "id": "40ff9f5f-0c37-446a-afb5-fca24eb4cfe3",
   "metadata": {},
   "outputs": [
    {
     "name": "stdout",
     "output_type": "stream",
     "text": [
      "Defaulting to user installation because normal site-packages is not writeable\n",
      "Requirement already satisfied: mysql-connector-python in c:\\users\\govind\\appdata\\roaming\\python\\python312\\site-packages (9.0.0)\n",
      "Note: you may need to restart the kernel to use updated packages.\n"
     ]
    }
   ],
   "source": [
    "pip install mysql-connector-python"
   ]
  },
  {
   "cell_type": "code",
   "execution_count": 3,
   "id": "b9875554-dd36-4b88-bfdb-5cc0f3b0afe9",
   "metadata": {},
   "outputs": [
    {
     "name": "stdout",
     "output_type": "stream",
     "text": [
      "Defaulting to user installation because normal site-packages is not writeable\n",
      "Requirement already satisfied: matplotlib in d:\\jupyternotebook\\lib\\site-packages (3.8.4)\n",
      "Requirement already satisfied: contourpy>=1.0.1 in d:\\jupyternotebook\\lib\\site-packages (from matplotlib) (1.2.0)\n",
      "Requirement already satisfied: cycler>=0.10 in d:\\jupyternotebook\\lib\\site-packages (from matplotlib) (0.11.0)\n",
      "Requirement already satisfied: fonttools>=4.22.0 in d:\\jupyternotebook\\lib\\site-packages (from matplotlib) (4.51.0)\n",
      "Requirement already satisfied: kiwisolver>=1.3.1 in d:\\jupyternotebook\\lib\\site-packages (from matplotlib) (1.4.4)\n",
      "Requirement already satisfied: numpy>=1.21 in d:\\jupyternotebook\\lib\\site-packages (from matplotlib) (1.26.4)\n",
      "Requirement already satisfied: packaging>=20.0 in d:\\jupyternotebook\\lib\\site-packages (from matplotlib) (23.2)\n",
      "Requirement already satisfied: pillow>=8 in d:\\jupyternotebook\\lib\\site-packages (from matplotlib) (10.3.0)\n",
      "Requirement already satisfied: pyparsing>=2.3.1 in d:\\jupyternotebook\\lib\\site-packages (from matplotlib) (3.0.9)\n",
      "Requirement already satisfied: python-dateutil>=2.7 in d:\\jupyternotebook\\lib\\site-packages (from matplotlib) (2.9.0.post0)\n",
      "Requirement already satisfied: six>=1.5 in d:\\jupyternotebook\\lib\\site-packages (from python-dateutil>=2.7->matplotlib) (1.16.0)\n",
      "Note: you may need to restart the kernel to use updated packages.\n"
     ]
    }
   ],
   "source": [
    "pip install matplotlib"
   ]
  },
  {
   "cell_type": "code",
   "execution_count": 4,
   "id": "e9c83cd0-a099-420d-8476-d96dc1ef27d9",
   "metadata": {},
   "outputs": [
    {
     "name": "stdout",
     "output_type": "stream",
     "text": [
      "Defaulting to user installation because normal site-packages is not writeable\n",
      "Requirement already satisfied: seaborn in d:\\jupyternotebook\\lib\\site-packages (0.13.2)\n",
      "Requirement already satisfied: numpy!=1.24.0,>=1.20 in d:\\jupyternotebook\\lib\\site-packages (from seaborn) (1.26.4)\n",
      "Requirement already satisfied: pandas>=1.2 in d:\\jupyternotebook\\lib\\site-packages (from seaborn) (2.2.2)\n",
      "Requirement already satisfied: matplotlib!=3.6.1,>=3.4 in d:\\jupyternotebook\\lib\\site-packages (from seaborn) (3.8.4)\n",
      "Requirement already satisfied: contourpy>=1.0.1 in d:\\jupyternotebook\\lib\\site-packages (from matplotlib!=3.6.1,>=3.4->seaborn) (1.2.0)\n",
      "Requirement already satisfied: cycler>=0.10 in d:\\jupyternotebook\\lib\\site-packages (from matplotlib!=3.6.1,>=3.4->seaborn) (0.11.0)\n",
      "Requirement already satisfied: fonttools>=4.22.0 in d:\\jupyternotebook\\lib\\site-packages (from matplotlib!=3.6.1,>=3.4->seaborn) (4.51.0)\n",
      "Requirement already satisfied: kiwisolver>=1.3.1 in d:\\jupyternotebook\\lib\\site-packages (from matplotlib!=3.6.1,>=3.4->seaborn) (1.4.4)\n",
      "Requirement already satisfied: packaging>=20.0 in d:\\jupyternotebook\\lib\\site-packages (from matplotlib!=3.6.1,>=3.4->seaborn) (23.2)\n",
      "Requirement already satisfied: pillow>=8 in d:\\jupyternotebook\\lib\\site-packages (from matplotlib!=3.6.1,>=3.4->seaborn) (10.3.0)\n",
      "Requirement already satisfied: pyparsing>=2.3.1 in d:\\jupyternotebook\\lib\\site-packages (from matplotlib!=3.6.1,>=3.4->seaborn) (3.0.9)\n",
      "Requirement already satisfied: python-dateutil>=2.7 in d:\\jupyternotebook\\lib\\site-packages (from matplotlib!=3.6.1,>=3.4->seaborn) (2.9.0.post0)\n",
      "Requirement already satisfied: pytz>=2020.1 in d:\\jupyternotebook\\lib\\site-packages (from pandas>=1.2->seaborn) (2024.1)\n",
      "Requirement already satisfied: tzdata>=2022.7 in d:\\jupyternotebook\\lib\\site-packages (from pandas>=1.2->seaborn) (2023.3)\n",
      "Requirement already satisfied: six>=1.5 in d:\\jupyternotebook\\lib\\site-packages (from python-dateutil>=2.7->matplotlib!=3.6.1,>=3.4->seaborn) (1.16.0)\n",
      "Note: you may need to restart the kernel to use updated packages.\n"
     ]
    }
   ],
   "source": [
    "pip install seaborn"
   ]
  },
  {
   "cell_type": "markdown",
   "id": "e4e01db2-5aed-437b-b4f5-43e205249bc6",
   "metadata": {},
   "source": [
    "# CSV to SQL"
   ]
  },
  {
   "cell_type": "code",
   "execution_count": 5,
   "id": "1039c76a-12e6-43d2-9ffe-d84317134a93",
   "metadata": {},
   "outputs": [
    {
     "name": "stdout",
     "output_type": "stream",
     "text": [
      "Processing customers.csv\n",
      "NaN values before replacement:\n",
      "customer_id                 0\n",
      "customer_unique_id          0\n",
      "customer_zip_code_prefix    0\n",
      "customer_city               0\n",
      "customer_state              0\n",
      "dtype: int64\n",
      "\n",
      "Processing orders.csv\n",
      "NaN values before replacement:\n",
      "order_id                            0\n",
      "customer_id                         0\n",
      "order_status                        0\n",
      "order_purchase_timestamp            0\n",
      "order_approved_at                 160\n",
      "order_delivered_carrier_date     1783\n",
      "order_delivered_customer_date    2965\n",
      "order_estimated_delivery_date       0\n",
      "dtype: int64\n",
      "\n",
      "Processing sellers.csv\n",
      "NaN values before replacement:\n",
      "seller_id                 0\n",
      "seller_zip_code_prefix    0\n",
      "seller_city               0\n",
      "seller_state              0\n",
      "dtype: int64\n",
      "\n",
      "Processing products.csv\n",
      "NaN values before replacement:\n",
      "product_id                      0\n",
      "product category              610\n",
      "product_name_length           610\n",
      "product_description_length    610\n",
      "product_photos_qty            610\n",
      "product_weight_g                2\n",
      "product_length_cm               2\n",
      "product_height_cm               2\n",
      "product_width_cm                2\n",
      "dtype: int64\n",
      "\n",
      "Processing geolocation.csv\n",
      "NaN values before replacement:\n",
      "geolocation_zip_code_prefix    0\n",
      "geolocation_lat                0\n",
      "geolocation_lng                0\n",
      "geolocation_city               0\n",
      "geolocation_state              0\n",
      "dtype: int64\n",
      "\n",
      "Processing payments.csv\n",
      "NaN values before replacement:\n",
      "order_id                0\n",
      "payment_sequential      0\n",
      "payment_type            0\n",
      "payment_installments    0\n",
      "payment_value           0\n",
      "dtype: int64\n",
      "\n",
      "Processing order_items.csv\n",
      "NaN values before replacement:\n",
      "order_id               0\n",
      "order_item_id          0\n",
      "product_id             0\n",
      "seller_id              0\n",
      "shipping_limit_date    0\n",
      "price                  0\n",
      "freight_value          0\n",
      "dtype: int64\n",
      "\n"
     ]
    }
   ],
   "source": [
    "import pandas as pd\n",
    "import mysql.connector\n",
    "import os\n",
    "\n",
    "# List of CSV files and their corresponding table names\n",
    "csv_files = [\n",
    "    ('customers.csv', 'customers'),\n",
    "    ('orders.csv', 'orders'),\n",
    "    ('sellers.csv', 'sellers'),\n",
    "    ('products.csv', 'products'),\n",
    "    ('geolocation.csv', 'geolocation'),\n",
    "    ('payments.csv', 'payments'),\n",
    "    ('order_items.csv', 'order_items')# Added payments.csv for specific handling\n",
    "]\n",
    "\n",
    "# Connect to the MySQL database\n",
    "conn = mysql.connector.connect(\n",
    "    host='localhost',\n",
    "    user='root',\n",
    "    password='1234567890',\n",
    "    database='ecommerce'\n",
    ")\n",
    "cursor = conn.cursor()\n",
    "\n",
    "# Folder containing the CSV files\n",
    "folder_path = 'C:/Users/Govind/Desktop/Ecommerce'\n",
    "\n",
    "def get_sql_type(dtype):\n",
    "    if pd.api.types.is_integer_dtype(dtype):\n",
    "        return 'INT'\n",
    "    elif pd.api.types.is_float_dtype(dtype):\n",
    "        return 'FLOAT'\n",
    "    elif pd.api.types.is_bool_dtype(dtype):\n",
    "        return 'BOOLEAN'\n",
    "    elif pd.api.types.is_datetime64_any_dtype(dtype):\n",
    "        return 'DATETIME'\n",
    "    else:\n",
    "        return 'TEXT'\n",
    "\n",
    "for csv_file, table_name in csv_files:\n",
    "    file_path = os.path.join(folder_path, csv_file)\n",
    "    \n",
    "    # Read the CSV file into a pandas DataFrame\n",
    "    df = pd.read_csv(file_path)\n",
    "    \n",
    "    # Replace NaN with None to handle SQL NULL\n",
    "    df = df.where(pd.notnull(df), None)\n",
    "    \n",
    "    # Debugging: Check for NaN values\n",
    "    print(f\"Processing {csv_file}\")\n",
    "    print(f\"NaN values before replacement:\\n{df.isnull().sum()}\\n\")\n",
    "\n",
    "    # Clean column names\n",
    "    df.columns = [col.replace(' ', '_').replace('-', '_').replace('.', '_') for col in df.columns]\n",
    "\n",
    "    # Generate the CREATE TABLE statement with appropriate data types\n",
    "    columns = ', '.join([f'`{col}` {get_sql_type(df[col].dtype)}' for col in df.columns])\n",
    "    create_table_query = f'CREATE TABLE IF NOT EXISTS `{table_name}` ({columns})'\n",
    "    cursor.execute(create_table_query)\n",
    "\n",
    "    # Insert DataFrame data into the MySQL table\n",
    "    for _, row in df.iterrows():\n",
    "        # Convert row to tuple and handle NaN/None explicitly\n",
    "        values = tuple(None if pd.isna(x) else x for x in row)\n",
    "        sql = f\"INSERT INTO `{table_name}` ({', '.join(['`' + col + '`' for col in df.columns])}) VALUES ({', '.join(['%s'] * len(row))})\"\n",
    "        cursor.execute(sql, values)\n",
    "\n",
    "    # Commit the transaction for the current CSV file\n",
    "    conn.commit()\n",
    "\n",
    "# Close the connection\n",
    "conn.close()"
   ]
  },
  {
   "cell_type": "code",
   "execution_count": 6,
   "id": "0ad76560-cc0f-44fe-a3e8-49eddce96b96",
   "metadata": {},
   "outputs": [],
   "source": [
    "import pandas as pd\n",
    "import matplotlib.pyplot as plt\n",
    "import seaborn as sns\n",
    "import mysql.connector\n",
    "import numpy as np\n",
    "\n",
    "\n",
    "db = mysql.connector.connect(host = \"localhost\",\n",
    "                             username = \"root\",\n",
    "                             password = \"1234567890\",\n",
    "                             database = \"ecommerce\")\n",
    "\n",
    "cur = db.cursor()"
   ]
  },
  {
   "cell_type": "markdown",
   "id": "f0bc12f2-9925-4970-983b-5692bca67f3b",
   "metadata": {},
   "source": [
    "# List all unique cities where customers are located."
   ]
  },
  {
   "cell_type": "code",
   "execution_count": 7,
   "id": "ad67ccb3-4f4d-4fbc-9bf7-a4d57b0f0043",
   "metadata": {},
   "outputs": [
    {
     "data": {
      "text/html": [
       "<div>\n",
       "<style scoped>\n",
       "    .dataframe tbody tr th:only-of-type {\n",
       "        vertical-align: middle;\n",
       "    }\n",
       "\n",
       "    .dataframe tbody tr th {\n",
       "        vertical-align: top;\n",
       "    }\n",
       "\n",
       "    .dataframe thead th {\n",
       "        text-align: right;\n",
       "    }\n",
       "</style>\n",
       "<table border=\"1\" class=\"dataframe\">\n",
       "  <thead>\n",
       "    <tr style=\"text-align: right;\">\n",
       "      <th></th>\n",
       "      <th>0</th>\n",
       "    </tr>\n",
       "  </thead>\n",
       "  <tbody>\n",
       "    <tr>\n",
       "      <th>0</th>\n",
       "      <td>franca</td>\n",
       "    </tr>\n",
       "    <tr>\n",
       "      <th>1</th>\n",
       "      <td>sao bernardo do campo</td>\n",
       "    </tr>\n",
       "    <tr>\n",
       "      <th>2</th>\n",
       "      <td>sao paulo</td>\n",
       "    </tr>\n",
       "    <tr>\n",
       "      <th>3</th>\n",
       "      <td>mogi das cruzes</td>\n",
       "    </tr>\n",
       "    <tr>\n",
       "      <th>4</th>\n",
       "      <td>campinas</td>\n",
       "    </tr>\n",
       "  </tbody>\n",
       "</table>\n",
       "</div>"
      ],
      "text/plain": [
       "                       0\n",
       "0                 franca\n",
       "1  sao bernardo do campo\n",
       "2              sao paulo\n",
       "3        mogi das cruzes\n",
       "4               campinas"
      ]
     },
     "execution_count": 7,
     "metadata": {},
     "output_type": "execute_result"
    }
   ],
   "source": [
    "query = \"\"\" select distinct customer_city from customers \"\"\"\n",
    "\n",
    "cur.execute(query)\n",
    "\n",
    "data = cur.fetchall()\n",
    "\n",
    "df = pd.DataFrame(data)\n",
    "df.head()"
   ]
  },
  {
   "cell_type": "markdown",
   "id": "04764f77-fd29-45a9-97b7-4aff5fac2adc",
   "metadata": {},
   "source": [
    "# Count the number of orders placed in 2017."
   ]
  },
  {
   "cell_type": "code",
   "execution_count": 8,
   "id": "05cd90a6-9e70-4466-8e06-b7070f193371",
   "metadata": {},
   "outputs": [
    {
     "data": {
      "text/plain": [
       "('Total orders placed in 2017 are', 451010)"
      ]
     },
     "execution_count": 8,
     "metadata": {},
     "output_type": "execute_result"
    }
   ],
   "source": [
    "query = \"\"\" select count(order_id) from orders where year(order_purchase_timestamp) = 2017 \"\"\"\n",
    "\n",
    "cur.execute(query)\n",
    "\n",
    "data = cur.fetchall()\n",
    "\n",
    "\"Total orders placed in 2017 are\", data[0][0]"
   ]
  },
  {
   "cell_type": "markdown",
   "id": "d7e1a3aa-eb7b-4339-8585-726231e1f586",
   "metadata": {},
   "source": [
    "# Find the total sales per category."
   ]
  },
  {
   "cell_type": "code",
   "execution_count": 9,
   "id": "e669ac3b-20d0-4582-81e6-1aca5284c57c",
   "metadata": {},
   "outputs": [
    {
     "data": {
      "text/html": [
       "<div>\n",
       "<style scoped>\n",
       "    .dataframe tbody tr th:only-of-type {\n",
       "        vertical-align: middle;\n",
       "    }\n",
       "\n",
       "    .dataframe tbody tr th {\n",
       "        vertical-align: top;\n",
       "    }\n",
       "\n",
       "    .dataframe thead th {\n",
       "        text-align: right;\n",
       "    }\n",
       "</style>\n",
       "<table border=\"1\" class=\"dataframe\">\n",
       "  <thead>\n",
       "    <tr style=\"text-align: right;\">\n",
       "      <th></th>\n",
       "      <th>category</th>\n",
       "      <th>sales</th>\n",
       "    </tr>\n",
       "  </thead>\n",
       "  <tbody>\n",
       "    <tr>\n",
       "      <th>0</th>\n",
       "      <td>PERFUMERY</td>\n",
       "      <td>5.067387e+08</td>\n",
       "    </tr>\n",
       "    <tr>\n",
       "      <th>1</th>\n",
       "      <td>FURNITURE DECORATION</td>\n",
       "      <td>1.430176e+09</td>\n",
       "    </tr>\n",
       "    <tr>\n",
       "      <th>2</th>\n",
       "      <td>TELEPHONY</td>\n",
       "      <td>4.868821e+08</td>\n",
       "    </tr>\n",
       "    <tr>\n",
       "      <th>3</th>\n",
       "      <td>BED TABLE BATH</td>\n",
       "      <td>1.712554e+09</td>\n",
       "    </tr>\n",
       "    <tr>\n",
       "      <th>4</th>\n",
       "      <td>AUTOMOTIVE</td>\n",
       "      <td>8.522943e+08</td>\n",
       "    </tr>\n",
       "    <tr>\n",
       "      <th>...</th>\n",
       "      <td>...</td>\n",
       "      <td>...</td>\n",
       "    </tr>\n",
       "    <tr>\n",
       "      <th>69</th>\n",
       "      <td>CDS MUSIC DVDS</td>\n",
       "      <td>1.199430e+06</td>\n",
       "    </tr>\n",
       "    <tr>\n",
       "      <th>70</th>\n",
       "      <td>LA CUISINE</td>\n",
       "      <td>2.913530e+06</td>\n",
       "    </tr>\n",
       "    <tr>\n",
       "      <th>71</th>\n",
       "      <td>FASHION CHILDREN'S CLOTHING</td>\n",
       "      <td>7.856700e+05</td>\n",
       "    </tr>\n",
       "    <tr>\n",
       "      <th>72</th>\n",
       "      <td>PC GAMER</td>\n",
       "      <td>2.174430e+06</td>\n",
       "    </tr>\n",
       "    <tr>\n",
       "      <th>73</th>\n",
       "      <td>INSURANCE AND SERVICES</td>\n",
       "      <td>3.245100e+05</td>\n",
       "    </tr>\n",
       "  </tbody>\n",
       "</table>\n",
       "<p>74 rows × 2 columns</p>\n",
       "</div>"
      ],
      "text/plain": [
       "                       category         sales\n",
       "0                     PERFUMERY  5.067387e+08\n",
       "1          FURNITURE DECORATION  1.430176e+09\n",
       "2                     TELEPHONY  4.868821e+08\n",
       "3                BED TABLE BATH  1.712554e+09\n",
       "4                    AUTOMOTIVE  8.522943e+08\n",
       "..                          ...           ...\n",
       "69               CDS MUSIC DVDS  1.199430e+06\n",
       "70                   LA CUISINE  2.913530e+06\n",
       "71  FASHION CHILDREN'S CLOTHING  7.856700e+05\n",
       "72                     PC GAMER  2.174430e+06\n",
       "73       INSURANCE AND SERVICES  3.245100e+05\n",
       "\n",
       "[74 rows x 2 columns]"
      ]
     },
     "execution_count": 9,
     "metadata": {},
     "output_type": "execute_result"
    }
   ],
   "source": [
    "query = \"\"\" select upper(products.product_category) category,\n",
    "round(sum(payments.payment_value),2) sales\n",
    "from products join order_items\n",
    "on products.product_id = order_items.product_id\n",
    "join payments\n",
    "on payments.order_id = order_items.order_id\n",
    "group by category\n",
    "\"\"\"\n",
    "\n",
    "cur.execute(query)\n",
    "\n",
    "data = cur.fetchall()\n",
    "\n",
    "data\n",
    "\n",
    "df = pd.DataFrame(data, columns = [\"category\", \"sales\"])\n",
    "df"
   ]
  },
  {
   "cell_type": "markdown",
   "id": "debe6f6e-e5e3-4fcf-b97f-9a05e5d65224",
   "metadata": {},
   "source": [
    "# Calculate the percentage of orders that were paid in installments."
   ]
  },
  {
   "cell_type": "code",
   "execution_count": 10,
   "id": "dd29db76-151d-4866-8fc8-6511e72186d7",
   "metadata": {},
   "outputs": [
    {
     "data": {
      "text/plain": [
       "('the percentage of orders that were paid in installments is',\n",
       " Decimal('99.9981'))"
      ]
     },
     "execution_count": 10,
     "metadata": {},
     "output_type": "execute_result"
    }
   ],
   "source": [
    "query = \"\"\" select (sum(case when payment_installments >= 1 then 1\n",
    "else 0 end))/count(*)*100 from payments\n",
    "\"\"\"\n",
    "\n",
    "cur.execute(query)\n",
    "\n",
    "data = cur.fetchall()\n",
    "\n",
    "'the percentage of orders that were paid in installments is',data[0][0]"
   ]
  },
  {
   "cell_type": "markdown",
   "id": "34fffcb2-1870-4708-ac0b-a1d2d8fd5bd7",
   "metadata": {},
   "source": [
    "# Count the number of customers from each state. "
   ]
  },
  {
   "cell_type": "code",
   "execution_count": 11,
   "id": "86ebbc0d-ba0e-40d0-879e-07ab088bd5ff",
   "metadata": {},
   "outputs": [
    {
     "data": {
      "image/png": "[encoded data removed]",
      "text/plain": [
       "<Figure size 800x300 with 1 Axes>"
      ]
     },
     "metadata": {},
     "output_type": "display_data"
    }
   ],
   "source": [
    "query = \"\"\" select customer_state ,count(customer_id)\n",
    "from customers group by customer_state\n",
    "\"\"\"\n",
    "\n",
    "cur.execute(query)\n",
    "\n",
    "data = cur.fetchall()\n",
    "df = pd.DataFrame(data, columns = ['state', 'customer_count'])\n",
    "df = df.sort_values(by = 'customer_count', ascending = False)\n",
    "\n",
    "plt.figure(figsize = (8,3))\n",
    "plt.bar(df['state'], df['customer_count'])\n",
    "plt.xticks(rotation = 90)\n",
    "plt.xlabel(\"states\")\n",
    "plt.ylabel(\"customer_count\")\n",
    "plt.title(\"Count of Customers by States\")\n",
    "plt.show()"
   ]
  },
  {
   "cell_type": "markdown",
   "id": "5e3510d4-efda-4695-a4ad-46616d559dab",
   "metadata": {},
   "source": [
    "# Calculate the number of orders per month in 2018."
   ]
  },
  {
   "cell_type": "code",
   "execution_count": 12,
   "id": "5a52efe2-93fb-42df-a9e3-d60c8d35154e",
   "metadata": {},
   "outputs": [
    {
     "data": {
      "image/png": "[encoded data removed]",
      "text/plain": [
       "<Figure size 640x480 with 1 Axes>"
      ]
     },
     "metadata": {},
     "output_type": "display_data"
    }
   ],
   "source": [
    "query = \"\"\" select monthname(order_purchase_timestamp) months, count(order_id) order_count\n",
    "from orders where year(order_purchase_timestamp) = 2018\n",
    "group by months\n",
    "\"\"\"\n",
    "\n",
    "cur.execute(query)\n",
    "\n",
    "data = cur.fetchall()\n",
    "\n",
    "df = pd.DataFrame(data, columns = ['months', 'order_count'])\n",
    "o = ['January', 'February', 'March', 'April', 'May', 'June', 'July', 'August', 'September' ,'October']\n",
    "\n",
    "ax = sns.barplot(x = df['months'], y = df['order_count'], data = df, order = o, color = 'red')\n",
    "plt.xticks(rotation = 45)\n",
    "ax.bar_label(ax.containers[0])\n",
    "plt.title(\"Count of Orders by Months in 2018\")\n",
    "\n",
    "plt.show()"
   ]
  },
  {
   "cell_type": "markdown",
   "id": "68b3eff6-9403-40d3-bc3c-b22afe4afdd8",
   "metadata": {},
   "source": [
    "# Find the average number of products per order, grouped by customer city."
   ]
  },
  {
   "cell_type": "code",
   "execution_count": 13,
   "id": "ac3a49bc-976d-49c6-9357-a540147486c2",
   "metadata": {},
   "outputs": [
    {
     "data": {
      "text/html": [
       "<div>\n",
       "<style scoped>\n",
       "    .dataframe tbody tr th:only-of-type {\n",
       "        vertical-align: middle;\n",
       "    }\n",
       "\n",
       "    .dataframe tbody tr th {\n",
       "        vertical-align: top;\n",
       "    }\n",
       "\n",
       "    .dataframe thead th {\n",
       "        text-align: right;\n",
       "    }\n",
       "</style>\n",
       "<table border=\"1\" class=\"dataframe\">\n",
       "  <thead>\n",
       "    <tr style=\"text-align: right;\">\n",
       "      <th></th>\n",
       "      <th>customer city</th>\n",
       "      <th>average products/order</th>\n",
       "    </tr>\n",
       "  </thead>\n",
       "  <tbody>\n",
       "    <tr>\n",
       "      <th>0</th>\n",
       "      <td>padre carvalho</td>\n",
       "      <td>700.00</td>\n",
       "    </tr>\n",
       "    <tr>\n",
       "      <th>1</th>\n",
       "      <td>celso ramos</td>\n",
       "      <td>650.00</td>\n",
       "    </tr>\n",
       "    <tr>\n",
       "      <th>2</th>\n",
       "      <td>datas</td>\n",
       "      <td>600.00</td>\n",
       "    </tr>\n",
       "    <tr>\n",
       "      <th>3</th>\n",
       "      <td>candido godoi</td>\n",
       "      <td>600.00</td>\n",
       "    </tr>\n",
       "    <tr>\n",
       "      <th>4</th>\n",
       "      <td>matias olimpio</td>\n",
       "      <td>500.00</td>\n",
       "    </tr>\n",
       "    <tr>\n",
       "      <th>5</th>\n",
       "      <td>cidelandia</td>\n",
       "      <td>400.00</td>\n",
       "    </tr>\n",
       "    <tr>\n",
       "      <th>6</th>\n",
       "      <td>curralinho</td>\n",
       "      <td>400.00</td>\n",
       "    </tr>\n",
       "    <tr>\n",
       "      <th>7</th>\n",
       "      <td>picarra</td>\n",
       "      <td>400.00</td>\n",
       "    </tr>\n",
       "    <tr>\n",
       "      <th>8</th>\n",
       "      <td>morro de sao paulo</td>\n",
       "      <td>400.00</td>\n",
       "    </tr>\n",
       "    <tr>\n",
       "      <th>9</th>\n",
       "      <td>teixeira soares</td>\n",
       "      <td>400.00</td>\n",
       "    </tr>\n",
       "  </tbody>\n",
       "</table>\n",
       "</div>"
      ],
      "text/plain": [
       "        customer city average products/order\n",
       "0      padre carvalho                 700.00\n",
       "1         celso ramos                 650.00\n",
       "2               datas                 600.00\n",
       "3       candido godoi                 600.00\n",
       "4      matias olimpio                 500.00\n",
       "5          cidelandia                 400.00\n",
       "6          curralinho                 400.00\n",
       "7             picarra                 400.00\n",
       "8  morro de sao paulo                 400.00\n",
       "9     teixeira soares                 400.00"
      ]
     },
     "execution_count": 13,
     "metadata": {},
     "output_type": "execute_result"
    }
   ],
   "source": [
    "query = \"\"\" with count_per_order as\n",
    " (select orders.order_id, orders.customer_id, count(order_items.order_id) as order_count\n",
    "from orders join order_items\n",
    "on orders.order_id = order_items.order_id\n",
    "group by orders.order_id, orders.customer_id)\n",
    "\n",
    "select customers.customer_city, round(avg(count_per_order.order_count),2) average_orders\n",
    "from customers join count_per_order\n",
    "on customers.customer_id = count_per_order.customer_id\n",
    "group by customers.customer_city order by average_orders desc\n",
    "\"\"\"\n",
    "\n",
    "cur.execute(query)\n",
    "\n",
    "data = cur.fetchall()\n",
    "\n",
    "df = pd.DataFrame(data, columns = ['customer city', 'average products/order'])\n",
    "df.head(10)"
   ]
  },
  {
   "cell_type": "markdown",
   "id": "40c77205-f27c-45d6-a9c0-66c808d7e40c",
   "metadata": {},
   "source": [
    "# Calculate the percentage of total revenue contributed by each product category."
   ]
  },
  {
   "cell_type": "code",
   "execution_count": 14,
   "id": "847bde8e-8b7b-42da-b4c7-efe32a94ccbd",
   "metadata": {},
   "outputs": [
    {
     "data": {
      "text/html": [
       "<div>\n",
       "<style scoped>\n",
       "    .dataframe tbody tr th:only-of-type {\n",
       "        vertical-align: middle;\n",
       "    }\n",
       "\n",
       "    .dataframe tbody tr th {\n",
       "        vertical-align: top;\n",
       "    }\n",
       "\n",
       "    .dataframe thead th {\n",
       "        text-align: right;\n",
       "    }\n",
       "</style>\n",
       "<table border=\"1\" class=\"dataframe\">\n",
       "  <thead>\n",
       "    <tr style=\"text-align: right;\">\n",
       "      <th></th>\n",
       "      <th>category</th>\n",
       "      <th>percentage distribution</th>\n",
       "    </tr>\n",
       "  </thead>\n",
       "  <tbody>\n",
       "    <tr>\n",
       "      <th>0</th>\n",
       "      <td>BED TABLE BATH</td>\n",
       "      <td>1069.75</td>\n",
       "    </tr>\n",
       "    <tr>\n",
       "      <th>1</th>\n",
       "      <td>HEALTH BEAUTY</td>\n",
       "      <td>1035.28</td>\n",
       "    </tr>\n",
       "    <tr>\n",
       "      <th>2</th>\n",
       "      <td>COMPUTER ACCESSORIES</td>\n",
       "      <td>990.28</td>\n",
       "    </tr>\n",
       "    <tr>\n",
       "      <th>3</th>\n",
       "      <td>FURNITURE DECORATION</td>\n",
       "      <td>893.36</td>\n",
       "    </tr>\n",
       "    <tr>\n",
       "      <th>4</th>\n",
       "      <td>WATCHES PRESENT</td>\n",
       "      <td>892.77</td>\n",
       "    </tr>\n",
       "  </tbody>\n",
       "</table>\n",
       "</div>"
      ],
      "text/plain": [
       "               category  percentage distribution\n",
       "0        BED TABLE BATH                  1069.75\n",
       "1         HEALTH BEAUTY                  1035.28\n",
       "2  COMPUTER ACCESSORIES                   990.28\n",
       "3  FURNITURE DECORATION                   893.36\n",
       "4       WATCHES PRESENT                   892.77"
      ]
     },
     "execution_count": 14,
     "metadata": {},
     "output_type": "execute_result"
    }
   ],
   "source": [
    "query = \"\"\" select upper(products.product_category) category,\n",
    "round((sum(payments.payment_value)/(select sum(payment_value) from payments))*100,2) sales_percentage\n",
    "from products join order_items\n",
    "on products.product_id = order_items.product_id\n",
    "join payments\n",
    "on payments.order_id = order_items.order_id\n",
    "group by category order by sales_percentage desc\"\"\"\n",
    "\n",
    "cur.execute(query)\n",
    "\n",
    "data = cur.fetchall()\n",
    "\n",
    "df = pd.DataFrame(data,columns = [\"category\", \"percentage distribution\"])\n",
    "df.head()"
   ]
  },
  {
   "cell_type": "markdown",
   "id": "3fa812ee-677d-4aa4-88c1-d0b2ae7bd9a5",
   "metadata": {},
   "source": [
    "# Identify the correlation between product price and the number of times a product has been purchased."
   ]
  },
  {
   "cell_type": "code",
   "execution_count": 15,
   "id": "51a2bbfd-2585-4e43-9d98-18b234a284a6",
   "metadata": {},
   "outputs": [
    {
     "name": "stdout",
     "output_type": "stream",
     "text": [
      "('the correlation between price and number of times a product has been purchased is', -0.10631514167157562)\n"
     ]
    }
   ],
   "source": [
    "import pandas as pd\n",
    "import matplotlib.pyplot as plt\n",
    "import seaborn as sns\n",
    "import mysql.connector\n",
    "import numpy as np\n",
    "\n",
    "\n",
    "db = mysql.connector.connect(host = \"localhost\",\n",
    "                             username = \"root\",\n",
    "                             password = \"1234567890\",\n",
    "                             database = \"ecommerce\")\n",
    "\n",
    "cur = db.cursor()\n",
    "\n",
    "query = \"\"\" select products.product_category,\n",
    "count(order_items.product_id),\n",
    "round (avg(order_items.price),2)\n",
    "from products join order_items\n",
    "on products.product_id = order_items.product_id\n",
    "group by products.product_category;\n",
    "\"\"\"\n",
    "\n",
    "cur.execute(query)\n",
    "\n",
    "data = cur.fetchall()\n",
    "\n",
    "df = pd.DataFrame(data,columns = [\"Category\", \"order_count\", \"price\"])\n",
    "\n",
    "arr1 = df[\"order_count\"]\n",
    "arr2 = df[\"price\"]\n",
    "\n",
    "a = np.corrcoef([arr1,arr2])\n",
    "print((\"the correlation between price and number of times a product has been purchased is\", a[0][1]))"
   ]
  },
  {
   "cell_type": "markdown",
   "id": "1d7f2b18-4c54-4d09-80ba-89d5b62c9cfe",
   "metadata": {},
   "source": [
    "# Calculate the total revenue generated by each seller, and rank them by revenue."
   ]
  },
  {
   "cell_type": "code",
   "execution_count": 16,
   "id": "6afd6de6-6b37-4591-9876-1e8d5c940f62",
   "metadata": {},
   "outputs": [
    {
     "data": {
      "text/plain": [
       "<function matplotlib.pyplot.show(close=None, block=None)>"
      ]
     },
     "execution_count": 16,
     "metadata": {},
     "output_type": "execute_result"
    },
    {
     "data": {
      "image/png": "[encoded data removed]",
      "text/plain": [
       "<Figure size 640x480 with 1 Axes>"
      ]
     },
     "metadata": {},
     "output_type": "display_data"
    }
   ],
   "source": [
    "query = \"\"\" select *, dense_rank() over(order by revenue desc) as rn from\n",
    "(select order_items.seller_id, sum(payments.payment_value) \n",
    "revenue from order_items join payments\n",
    "on order_items.order_id = payments.order_id\n",
    "group by order_items.seller_id) as a\n",
    "\"\"\"\n",
    "\n",
    "cur.execute(query)\n",
    "\n",
    "data = cur.fetchall()\n",
    "df = pd.DataFrame(data, columns = [\"seller_id\", \"revenue\", \"rank\"])\n",
    "df = df.head()\n",
    "sns.barplot(x = \"seller_id\", y = \"revenue\", data = df)\n",
    "plt.xticks(rotation = 90)\n",
    "plt.show"
   ]
  },
  {
   "cell_type": "markdown",
   "id": "5f173ef9-9cdf-48f0-8122-dcb860afc389",
   "metadata": {},
   "source": [
    "# Calculate the moving average of order values for each customer over their order history."
   ]
  },
  {
   "cell_type": "code",
   "execution_count": 17,
   "id": "2657ab15-12f1-4e7b-b980-db0cf4feeadc",
   "metadata": {},
   "outputs": [],
   "source": [
    "import pandas as pd\n",
    "import matplotlib.pyplot as plt\n",
    "import seaborn as sns\n",
    "import mysql.connector\n",
    "import numpy as np\n",
    "\n",
    "\n",
    "db = mysql.connector.connect(host = \"localhost\",\n",
    "                             username = \"root\",\n",
    "                             password = \"1234567890\",\n",
    "                             database = \"ecommerce\")\n",
    "\n",
    "cur = db.cursor()\n",
    "query = \"\"\" select customer_id, order_purchase_timestamp, payment,\n",
    "avg(payment) over(partition by customer_id order by order_purchase_timestamp\n",
    "rows between 2 preceding and current row) as mov_avg\n",
    "from\n",
    "(select orders.customer_id, orders.order_purchase_timestamp,\n",
    "payments.payment_value as payment\n",
    "from payments join orders\n",
    "on payments.order_id = orders.order_id) as a\n",
    "\"\"\"\n",
    "\n",
    "cur.execute(query)\n",
    "\n",
    "data = cur.fetchall()\n",
    "df = pd.DataFrame(data, columns = [\"customer_id\", \"order_purchase_timestamp\", \"price\", \"mov avg\"])\n",
    "df = df.head()"
   ]
  },
  {
   "cell_type": "markdown",
   "id": "3a295bb6-841d-4d78-80a4-e7da311890db",
   "metadata": {},
   "source": [
    "# Calculate the cumulative sales per month for each year."
   ]
  },
  {
   "cell_type": "code",
   "execution_count": 18,
   "id": "6c1972e6-1530-4d12-96fe-6115bb7f6d1d",
   "metadata": {},
   "outputs": [
    {
     "data": {
      "text/html": [
       "<div>\n",
       "<style scoped>\n",
       "    .dataframe tbody tr th:only-of-type {\n",
       "        vertical-align: middle;\n",
       "    }\n",
       "\n",
       "    .dataframe tbody tr th {\n",
       "        vertical-align: top;\n",
       "    }\n",
       "\n",
       "    .dataframe thead th {\n",
       "        text-align: right;\n",
       "    }\n",
       "</style>\n",
       "<table border=\"1\" class=\"dataframe\">\n",
       "  <thead>\n",
       "    <tr style=\"text-align: right;\">\n",
       "      <th></th>\n",
       "      <th>0</th>\n",
       "      <th>1</th>\n",
       "      <th>2</th>\n",
       "      <th>3</th>\n",
       "    </tr>\n",
       "  </thead>\n",
       "  <tbody>\n",
       "    <tr>\n",
       "      <th>0</th>\n",
       "      <td>2016</td>\n",
       "      <td>9</td>\n",
       "      <td>2.522400e+04</td>\n",
       "      <td>2.522400e+04</td>\n",
       "    </tr>\n",
       "    <tr>\n",
       "      <th>1</th>\n",
       "      <td>2016</td>\n",
       "      <td>10</td>\n",
       "      <td>5.909048e+06</td>\n",
       "      <td>5.934272e+06</td>\n",
       "    </tr>\n",
       "    <tr>\n",
       "      <th>2</th>\n",
       "      <td>2016</td>\n",
       "      <td>12</td>\n",
       "      <td>1.962000e+03</td>\n",
       "      <td>5.936234e+06</td>\n",
       "    </tr>\n",
       "    <tr>\n",
       "      <th>3</th>\n",
       "      <td>2017</td>\n",
       "      <td>1</td>\n",
       "      <td>1.384880e+07</td>\n",
       "      <td>1.978504e+07</td>\n",
       "    </tr>\n",
       "    <tr>\n",
       "      <th>4</th>\n",
       "      <td>2017</td>\n",
       "      <td>2</td>\n",
       "      <td>2.919080e+07</td>\n",
       "      <td>4.897584e+07</td>\n",
       "    </tr>\n",
       "    <tr>\n",
       "      <th>5</th>\n",
       "      <td>2017</td>\n",
       "      <td>3</td>\n",
       "      <td>4.498636e+07</td>\n",
       "      <td>9.396220e+07</td>\n",
       "    </tr>\n",
       "    <tr>\n",
       "      <th>6</th>\n",
       "      <td>2017</td>\n",
       "      <td>4</td>\n",
       "      <td>4.177880e+07</td>\n",
       "      <td>1.357410e+08</td>\n",
       "    </tr>\n",
       "    <tr>\n",
       "      <th>7</th>\n",
       "      <td>2017</td>\n",
       "      <td>5</td>\n",
       "      <td>5.929188e+07</td>\n",
       "      <td>1.950329e+08</td>\n",
       "    </tr>\n",
       "    <tr>\n",
       "      <th>8</th>\n",
       "      <td>2017</td>\n",
       "      <td>6</td>\n",
       "      <td>5.112764e+07</td>\n",
       "      <td>2.461605e+08</td>\n",
       "    </tr>\n",
       "    <tr>\n",
       "      <th>9</th>\n",
       "      <td>2017</td>\n",
       "      <td>7</td>\n",
       "      <td>5.923829e+07</td>\n",
       "      <td>3.053988e+08</td>\n",
       "    </tr>\n",
       "    <tr>\n",
       "      <th>10</th>\n",
       "      <td>2017</td>\n",
       "      <td>8</td>\n",
       "      <td>6.743963e+07</td>\n",
       "      <td>3.728384e+08</td>\n",
       "    </tr>\n",
       "    <tr>\n",
       "      <th>11</th>\n",
       "      <td>2017</td>\n",
       "      <td>9</td>\n",
       "      <td>7.277625e+07</td>\n",
       "      <td>4.456147e+08</td>\n",
       "    </tr>\n",
       "    <tr>\n",
       "      <th>12</th>\n",
       "      <td>2017</td>\n",
       "      <td>10</td>\n",
       "      <td>7.796779e+07</td>\n",
       "      <td>5.235825e+08</td>\n",
       "    </tr>\n",
       "    <tr>\n",
       "      <th>13</th>\n",
       "      <td>2017</td>\n",
       "      <td>11</td>\n",
       "      <td>1.194883e+08</td>\n",
       "      <td>6.430708e+08</td>\n",
       "    </tr>\n",
       "    <tr>\n",
       "      <th>14</th>\n",
       "      <td>2017</td>\n",
       "      <td>12</td>\n",
       "      <td>8.784015e+07</td>\n",
       "      <td>7.309109e+08</td>\n",
       "    </tr>\n",
       "    <tr>\n",
       "      <th>15</th>\n",
       "      <td>2018</td>\n",
       "      <td>1</td>\n",
       "      <td>1.115004e+08</td>\n",
       "      <td>8.424113e+08</td>\n",
       "    </tr>\n",
       "    <tr>\n",
       "      <th>16</th>\n",
       "      <td>2018</td>\n",
       "      <td>2</td>\n",
       "      <td>9.924633e+07</td>\n",
       "      <td>9.416577e+08</td>\n",
       "    </tr>\n",
       "    <tr>\n",
       "      <th>17</th>\n",
       "      <td>2018</td>\n",
       "      <td>3</td>\n",
       "      <td>1.159652e+08</td>\n",
       "      <td>1.057623e+09</td>\n",
       "    </tr>\n",
       "    <tr>\n",
       "      <th>18</th>\n",
       "      <td>2018</td>\n",
       "      <td>4</td>\n",
       "      <td>1.160785e+08</td>\n",
       "      <td>1.173701e+09</td>\n",
       "    </tr>\n",
       "    <tr>\n",
       "      <th>19</th>\n",
       "      <td>2018</td>\n",
       "      <td>5</td>\n",
       "      <td>1.153982e+08</td>\n",
       "      <td>1.289100e+09</td>\n",
       "    </tr>\n",
       "    <tr>\n",
       "      <th>20</th>\n",
       "      <td>2018</td>\n",
       "      <td>6</td>\n",
       "      <td>1.023881e+08</td>\n",
       "      <td>1.391488e+09</td>\n",
       "    </tr>\n",
       "    <tr>\n",
       "      <th>21</th>\n",
       "      <td>2018</td>\n",
       "      <td>7</td>\n",
       "      <td>1.066541e+08</td>\n",
       "      <td>1.498142e+09</td>\n",
       "    </tr>\n",
       "    <tr>\n",
       "      <th>22</th>\n",
       "      <td>2018</td>\n",
       "      <td>8</td>\n",
       "      <td>1.022425e+08</td>\n",
       "      <td>1.600384e+09</td>\n",
       "    </tr>\n",
       "    <tr>\n",
       "      <th>23</th>\n",
       "      <td>2018</td>\n",
       "      <td>9</td>\n",
       "      <td>4.439540e+05</td>\n",
       "      <td>1.600828e+09</td>\n",
       "    </tr>\n",
       "    <tr>\n",
       "      <th>24</th>\n",
       "      <td>2018</td>\n",
       "      <td>10</td>\n",
       "      <td>5.896700e+04</td>\n",
       "      <td>1.600887e+09</td>\n",
       "    </tr>\n",
       "  </tbody>\n",
       "</table>\n",
       "</div>"
      ],
      "text/plain": [
       "       0   1             2             3\n",
       "0   2016   9  2.522400e+04  2.522400e+04\n",
       "1   2016  10  5.909048e+06  5.934272e+06\n",
       "2   2016  12  1.962000e+03  5.936234e+06\n",
       "3   2017   1  1.384880e+07  1.978504e+07\n",
       "4   2017   2  2.919080e+07  4.897584e+07\n",
       "5   2017   3  4.498636e+07  9.396220e+07\n",
       "6   2017   4  4.177880e+07  1.357410e+08\n",
       "7   2017   5  5.929188e+07  1.950329e+08\n",
       "8   2017   6  5.112764e+07  2.461605e+08\n",
       "9   2017   7  5.923829e+07  3.053988e+08\n",
       "10  2017   8  6.743963e+07  3.728384e+08\n",
       "11  2017   9  7.277625e+07  4.456147e+08\n",
       "12  2017  10  7.796779e+07  5.235825e+08\n",
       "13  2017  11  1.194883e+08  6.430708e+08\n",
       "14  2017  12  8.784015e+07  7.309109e+08\n",
       "15  2018   1  1.115004e+08  8.424113e+08\n",
       "16  2018   2  9.924633e+07  9.416577e+08\n",
       "17  2018   3  1.159652e+08  1.057623e+09\n",
       "18  2018   4  1.160785e+08  1.173701e+09\n",
       "19  2018   5  1.153982e+08  1.289100e+09\n",
       "20  2018   6  1.023881e+08  1.391488e+09\n",
       "21  2018   7  1.066541e+08  1.498142e+09\n",
       "22  2018   8  1.022425e+08  1.600384e+09\n",
       "23  2018   9  4.439540e+05  1.600828e+09\n",
       "24  2018  10  5.896700e+04  1.600887e+09"
      ]
     },
     "execution_count": 18,
     "metadata": {},
     "output_type": "execute_result"
    }
   ],
   "source": [
    "import pandas as pd\n",
    "import matplotlib.pyplot as plt\n",
    "import seaborn as sns\n",
    "import mysql.connector\n",
    "import numpy as np\n",
    "\n",
    "\n",
    "db = mysql.connector.connect(host = \"localhost\",\n",
    "                             username = \"root\",\n",
    "                             password = \"1234567890\",\n",
    "                             database = \"ecommerce\")\n",
    "\n",
    "cur = db.cursor()\n",
    "query = \"\"\"select years, months, payment, sum(payment)\n",
    "over(order by years, months) cumulative_sales from\n",
    "(select year(orders.order_purchase_timestamp) as years,\n",
    "month(orders.order_purchase_timestamp) as months,\n",
    "round(sum(payments.payment_value),2) as payment from orders join payments\n",
    "on orders.order_id = payments.order_id\n",
    "group by years, months order by years, months) as a\n",
    "\"\"\"\n",
    "\n",
    "cur.execute(query)\n",
    "\n",
    "data = cur.fetchall()\n",
    "df = pd.DataFrame(data)\n",
    "df"
   ]
  },
  {
   "cell_type": "markdown",
   "id": "10f0c7ea-1481-4eaf-b16b-8fa40d117757",
   "metadata": {},
   "source": [
    "# Calculate the year-over-year growth rate of total sales."
   ]
  },
  {
   "cell_type": "code",
   "execution_count": 19,
   "id": "80794315-0489-4857-a270-7340879e0425",
   "metadata": {},
   "outputs": [
    {
     "data": {
      "text/html": [
       "<div>\n",
       "<style scoped>\n",
       "    .dataframe tbody tr th:only-of-type {\n",
       "        vertical-align: middle;\n",
       "    }\n",
       "\n",
       "    .dataframe tbody tr th {\n",
       "        vertical-align: top;\n",
       "    }\n",
       "\n",
       "    .dataframe thead th {\n",
       "        text-align: right;\n",
       "    }\n",
       "</style>\n",
       "<table border=\"1\" class=\"dataframe\">\n",
       "  <thead>\n",
       "    <tr style=\"text-align: right;\">\n",
       "      <th></th>\n",
       "      <th>years</th>\n",
       "      <th>year_over_year % growth</th>\n",
       "    </tr>\n",
       "  </thead>\n",
       "  <tbody>\n",
       "    <tr>\n",
       "      <th>0</th>\n",
       "      <td>2016</td>\n",
       "      <td>NaN</td>\n",
       "    </tr>\n",
       "    <tr>\n",
       "      <th>1</th>\n",
       "      <td>2017</td>\n",
       "      <td>12112.703758</td>\n",
       "    </tr>\n",
       "    <tr>\n",
       "      <th>2</th>\n",
       "      <td>2018</td>\n",
       "      <td>20.000924</td>\n",
       "    </tr>\n",
       "  </tbody>\n",
       "</table>\n",
       "</div>"
      ],
      "text/plain": [
       "   years  year_over_year % growth\n",
       "0   2016                      NaN\n",
       "1   2017             12112.703758\n",
       "2   2018                20.000924"
      ]
     },
     "execution_count": 19,
     "metadata": {},
     "output_type": "execute_result"
    }
   ],
   "source": [
    "query= \"\"\"with a as(select year(orders.order_purchase_timestamp) as years,\n",
    "round(sum(payments.payment_value),2) as payment from orders join payments\n",
    "on orders.order_id = payments.order_id\n",
    "group by years order by years)\n",
    "\n",
    "select years, ((payment - lag(payment, 1) over(order by years))/\n",
    "lag(payment, 1) over(order by years)) * 100 from a\"\"\"\n",
    "\n",
    "cur.execute(query)\n",
    "data = cur.fetchall()\n",
    "df = pd.DataFrame(data, columns = [\"years\", \"year_over_year % growth\"])\n",
    "df"
   ]
  },
  {
   "cell_type": "markdown",
   "id": "84ea092d-a1e6-44b7-a4c3-e954fcf6d78b",
   "metadata": {},
   "source": [
    "# Calculate the retention rate of customers, defined as the percentage of customers who make another purchase within 6 months of their first purchase."
   ]
  },
  {
   "cell_type": "code",
   "execution_count": 20,
   "id": "e0646ee5-b768-4f7b-9613-b765ac31c1ff",
   "metadata": {},
   "outputs": [
    {
     "data": {
      "text/plain": [
       "[(None,)]"
      ]
     },
     "execution_count": 20,
     "metadata": {},
     "output_type": "execute_result"
    }
   ],
   "source": [
    "query= \"\"\"with a as(select customers.customer_id,\n",
    "min(orders.order_purchase_timestamp) first_order\n",
    "from customers join orders\n",
    "on customers.customer_id = orders.customer_id\n",
    "group by customers.customer_id),\n",
    "\n",
    "b as(select a.customer_id, count(distinct orders.order_purchase_timestamp) next_order\n",
    "from a join orders\n",
    "on orders.customer_id = a.customer_id\n",
    "and orders.order_purchase_timestamp > first_order\n",
    "and orders.order_purchase_timestamp < \n",
    "date_add(first_order, interval 6 month)\n",
    "group by a.customer_id)\n",
    "\n",
    "select 100 * (count(distinct a.customer_id)/ count(distinct b.customer_id))\n",
    "from a left join b\n",
    "on a.customer_id = b.customer_id\"\"\"\n",
    "\n",
    "cur.execute(query)\n",
    "data = cur.fetchall()\n",
    "data\n",
    "\n",
    "#since none of our customers are repeated, hence our value is null"
   ]
  },
  {
   "cell_type": "markdown",
   "id": "42003139-025f-42e4-a9cd-8131ab96cb34",
   "metadata": {},
   "source": [
    "# Identify the top 3 customers who spent the most money in each year."
   ]
  },
  {
   "cell_type": "code",
   "execution_count": 23,
   "id": "31d186d7-411c-43ad-af3b-f55c013015a0",
   "metadata": {},
   "outputs": [
    {
     "data": {
      "image/png": "[encoded data removed]",
      "text/plain": [
       "<Figure size 640x480 with 1 Axes>"
      ]
     },
     "metadata": {},
     "output_type": "display_data"
    }
   ],
   "source": [
    "query= \"\"\"select years, customer_id, payment, d_rank\n",
    "from\n",
    "(select year(orders.order_purchase_timestamp) years,\n",
    "orders.customer_id,\n",
    "sum(payments.payment_value) payment,\n",
    "dense_rank() over(partition by year(orders.order_purchase_timestamp)\n",
    "order by sum(payments.payment_value) desc) d_rank\n",
    "from orders join payments\n",
    "on payments.order_id = orders.order_id\n",
    "group by year(orders.order_purchase_timestamp),\n",
    "orders.customer_id) as a\n",
    "where d_rank <= 3 \"\"\"\n",
    "\n",
    "cur.execute(query)\n",
    "data = cur.fetchall()\n",
    "df = pd.DataFrame(data, columns = [\"years\", \"id\", \"payment\", \"rank\"])\n",
    "sns.barplot(x = \"id\", y = \"payment\", data = df, hue = \"years\")\n",
    "plt.xticks(rotation = 90)\n",
    "plt.show()"
   ]
  },
  {
   "cell_type": "code",
   "execution_count": null,
   "id": "e57832a3-d2af-45e7-8968-0262931de045",
   "metadata": {},
   "outputs": [],
   "source": []
  }
 ],
 "metadata": {
  "kernelspec": {
   "display_name": "Python 3 (ipykernel)",
   "language": "python",
   "name": "python3"
  },
  "language_info": {
   "codemirror_mode": {
    "name": "ipython",
    "version": 3
   },
   "file_extension": ".py",
   "mimetype": "text/x-python",
   "name": "python",
   "nbconvert_exporter": "python",
   "pygments_lexer": "ipython3",
   "version": "3.12.4"
  }
 },
 "nbformat": 4,
 "nbformat_minor": 5
}
